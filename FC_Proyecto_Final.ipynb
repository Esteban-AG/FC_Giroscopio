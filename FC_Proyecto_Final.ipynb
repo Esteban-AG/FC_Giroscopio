{
 "cells": [
  {
   "cell_type": "code",
   "execution_count": 1,
   "id": "fifteen-topic",
   "metadata": {},
   "outputs": [],
   "source": [
    "using Plots,LinearAlgebra"
   ]
  },
  {
   "cell_type": "markdown",
   "id": "proof-prescription",
   "metadata": {},
   "source": [
    "# Proyecto Final-Trompo que gira sobre su eje\n",
    "\n",
    "#### Física Computacional. Grupo 8266.\n",
    "\n",
    "#### Facultad de Ciencias. Universidad Nacional Autónoma de México\n",
    "\n",
    " En este codigo desarrollamos una simulación de un trompo usando las técnicas vistas en clase y un poco más"
   ]
  },
  {
   "cell_type": "code",
   "execution_count": null,
   "id": "younger-grenada",
   "metadata": {},
   "outputs": [],
   "source": []
  }
 ],
 "metadata": {
  "kernelspec": {
   "display_name": "JuliaPro_v1.5.4-1 1.5.4",
   "language": "julia",
   "name": "juliapro_v1.5.4-1-1.5"
  },
  "language_info": {
   "file_extension": ".jl",
   "mimetype": "application/julia",
   "name": "julia",
   "version": "1.5.4"
  }
 },
 "nbformat": 4,
 "nbformat_minor": 5
}
